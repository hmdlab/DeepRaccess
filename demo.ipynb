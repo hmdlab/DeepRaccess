{
 "cells": [
  {
   "cell_type": "code",
   "execution_count": 1,
   "id": "4c2f98cf-07ce-4d6c-b764-5491c4513ef4",
   "metadata": {},
   "outputs": [],
   "source": [
    "import warnings\n",
    "warnings.filterwarnings('ignore', category=Warning)"
   ]
  },
  {
   "cell_type": "code",
   "execution_count": 2,
   "id": "2cf2fe0d-5a93-43a8-ba58-b84ed901795a",
   "metadata": {
    "tags": []
   },
   "outputs": [],
   "source": [
    "import csv\n",
    "import time\n",
    "import numpy as np\n",
    "import torch\n",
    "import more_itertools\n",
    "from Bio import SeqIO\n",
    "from scipy.stats import spearmanr\n",
    "from utils.bert import BertModel, get_config\n",
    "\n",
    "import process\n",
    "import mymodel"
   ]
  },
  {
   "cell_type": "code",
   "execution_count": 3,
   "id": "19051b05-e252-45f8-8206-294ae48588ef",
   "metadata": {},
   "outputs": [],
   "source": [
    "class AccDataset(torch.utils.data.Dataset):\n",
    "    def __init__(self, low_seq, accessibility):\n",
    "        self.data_num = len(low_seq)\n",
    "        self.low_seq = low_seq\n",
    "        self.accessibility = accessibility\n",
    "\n",
    "    def __len__(self):\n",
    "        return self.data_num\n",
    "\n",
    "    def __getitem__(self, idx):\n",
    "        out_low_seq = self.low_seq[idx]\n",
    "        out_accessibility = self.accessibility[idx]\n",
    "\n",
    "        return out_low_seq, out_accessibility\n",
    "\n",
    "\n",
    "def make_dl(seq_data_path, acc_data_path, batch_size):\n",
    "    flag = False\n",
    "    division = 1\n",
    "    max_length = 440\n",
    "\n",
    "    seq_data_path\n",
    "    seqs = []\n",
    "    for record in SeqIO.parse(seq_data_path, \"fasta\"):\n",
    "        record = record[::-1]  # reverse\n",
    "        seq = str(record.seq).upper()\n",
    "        seqs.append(seq)\n",
    "    seqs_len = np.tile(np.array([len(i) for i in seqs]), 1)\n",
    "\n",
    "    if max(seqs_len) > max_length:\n",
    "        flag = True\n",
    "        division += (max(seqs_len) - 110) // 330\n",
    "        max_length += division * 330\n",
    "\n",
    "    # Convert array string to index list with zero padding\n",
    "    bases_list = []\n",
    "    for seq in seqs:\n",
    "        bases = list(seq)\n",
    "        bases_list.append(bases)\n",
    "    idx_dict = {\"MASK\": 1, \"A\": 2, \"U\": 3, \"T\": 3, \"G\": 4, \"C\": 5}\n",
    "    low_seq = torch.tensor(np.array(process.convert(bases_list, idx_dict, max_length)))\n",
    "\n",
    "    if flag:  # windowing\n",
    "        splited_seq = []\n",
    "        for i in low_seq:\n",
    "            splited_seq.append(list(more_itertools.windowed(i, 440, step=330)))\n",
    "        low_seq = torch.tensor(splited_seq)\n",
    "        num_seq, division, length = low_seq.shape\n",
    "        low_seq = low_seq.view(-1, length)\n",
    "\n",
    "    accessibility = []\n",
    "    with open(acc_data_path) as f:\n",
    "        reader = csv.reader(f)\n",
    "        for l in reader:\n",
    "            pad_acc = l + [\"-1\"] * (max_length - len(l))\n",
    "            accessibility.append(pad_acc)\n",
    "    accessibility = torch.tensor(np.array(accessibility, dtype=np.float32))\n",
    "\n",
    "    if flag:\n",
    "        splited_acc = []\n",
    "        for i in accessibility:\n",
    "            splited_acc.append(list(more_itertools.windowed(i, 440, step=330)))\n",
    "        accessibility = torch.tensor(splited_acc)\n",
    "        accessibility = accessibility.view(-1, length)\n",
    "\n",
    "    ds_ACC = AccDataset(low_seq, accessibility)\n",
    "    dl_ACC = torch.utils.data.DataLoader(\n",
    "        ds_ACC, batch_size, num_workers=2, shuffle=False\n",
    "    )\n",
    "\n",
    "    return dl_ACC, flag, division\n",
    "\n",
    "\n",
    "def windowed(target, output, flag, division):\n",
    "    # Restore a long array\n",
    "    if flag:\n",
    "        for i in range(division):\n",
    "            if i == 0:\n",
    "                low_tar = target[i::division, :-55]\n",
    "                low_out = output[i::division, :-55]\n",
    "            elif i == division - 1:\n",
    "                target = np.concatenate([low_tar, target[i::division, 55:]], axis=1)\n",
    "                output = np.concatenate([low_out, output[i::division, 55:]], axis=1)\n",
    "            else:\n",
    "                low_tar = np.concatenate([low_tar, target[i::division, 55:-55]], axis=1)\n",
    "                low_out = np.concatenate([low_out, output[i::division, 55:-55]], axis=1)\n",
    "        return target, output\n",
    "\n",
    "    else:\n",
    "        return target, output\n",
    "\n",
    "\n",
    "def test(device, model, dataloader, criterion):\n",
    "    model.to(device)\n",
    "\n",
    "    data_all = []\n",
    "    target_all = []\n",
    "    output_all = []\n",
    "    loss_all = []\n",
    "    test_loss = 0\n",
    "    model.eval()\n",
    "\n",
    "    with torch.no_grad():\n",
    "        for batch in dataloader:\n",
    "            low_seq, accessibility = batch\n",
    "            data = low_seq.to(device, non_blocking=False)\n",
    "            target = accessibility.to(device, non_blocking=False)\n",
    "            output = model(data)\n",
    "\n",
    "            data_all.append(data.cpu().detach().numpy())\n",
    "            target_all.append(target.cpu().detach().numpy())\n",
    "            output_all.append(output.cpu().detach().numpy())\n",
    "\n",
    "            loss = criterion(output, target)\n",
    "            loss_all.append(loss.item())\n",
    "            test_loss += loss.item() * data.size(0)\n",
    "    avg_loss = test_loss / len(dataloader.dataset)\n",
    "\n",
    "    print(f\"normMSELoss:{avg_loss:.4f}\")\n",
    "\n",
    "    data_all = np.concatenate(data_all)\n",
    "    target_all = np.concatenate(target_all)\n",
    "    output_all = np.concatenate(output_all)\n",
    "\n",
    "    return data_all, target_all, output_all, loss_all"
   ]
  },
  {
   "cell_type": "code",
   "execution_count": 4,
   "id": "5aa1ea2e-5cad-4432-83d0-eef42c48df9f",
   "metadata": {
    "tags": []
   },
   "outputs": [],
   "source": [
    "device = torch.device(\"cuda\" if torch.cuda.is_available() else \"cpu\")\n",
    "\n",
    "seq_path = \"sample_data/sequence/RF01000.fa\"\n",
    "acc_path = \"sample_data/accessibility/RF01000.csv\"\n",
    "\n",
    "model_type = \"FCN\"\n",
    "batch_size = 256\n",
    "criterion = mymodel.normMSE().to(device)"
   ]
  },
  {
   "cell_type": "code",
   "execution_count": 5,
   "id": "a40afdd9-a0a0-416b-b769-3f453977387f",
   "metadata": {
    "tags": []
   },
   "outputs": [
    {
     "name": "stdout",
     "output_type": "stream",
     "text": [
      "device:  cpu\n"
     ]
    },
    {
     "name": "stderr",
     "output_type": "stream",
     "text": [
      "[W ParallelNative.cpp:229] Warning: Cannot set number of intraop threads after parallel work has started or after set_num_threads call when using native parallel backend (function set_num_threads)\n",
      "[W ParallelNative.cpp:229] Warning: Cannot set number of intraop threads after parallel work has started or after set_num_threads call when using native parallel backend (function set_num_threads)\n"
     ]
    },
    {
     "name": "stdout",
     "output_type": "stream",
     "text": [
      "normMSELoss:0.2369\n"
     ]
    }
   ],
   "source": [
    "model = getattr(mymodel, model_type)()\n",
    "model = process.model_device(model, device)\n",
    "model.load_state_dict(\n",
    "    torch.load(\"path/FCN_structured.pth\", map_location=device)[\"model_state_dict\"]\n",
    ")\n",
    "model = model.module.to(device)\n",
    "\n",
    "dl, flag, division = make_dl(seq_path, acc_path, batch_size)\n",
    "data, target, output, loss = test(device, model, dl, criterion)\n",
    "target, output = windowed(target, output, flag, division)\n",
    "\n",
    "target_rem, output_rem = process.remove_padding(\n",
    "    torch.tensor(target), torch.tensor(output)\n",
    ")"
   ]
  },
  {
   "cell_type": "code",
   "execution_count": 6,
   "id": "e5e7575c-654c-47eb-948c-0fbc5ec9442b",
   "metadata": {
    "tags": []
   },
   "outputs": [
    {
     "name": "stdout",
     "output_type": "stream",
     "text": [
      "tensor([22.5623, 22.5902, 22.6216, 22.6420, 22.6525])\n",
      "tensor([22.0823, 22.1020, 22.2422, 22.3530, 22.4678])\n"
     ]
    }
   ],
   "source": [
    "print(target_rem[:5])\n",
    "print(output_rem[:5])"
   ]
  },
  {
   "cell_type": "code",
   "execution_count": 7,
   "id": "5de3a611-bc17-45d8-b55c-fc9149c26a31",
   "metadata": {
    "tags": []
   },
   "outputs": [
    {
     "name": "stdout",
     "output_type": "stream",
     "text": [
      "correlation:0.9411, pvalue:0.0000\n"
     ]
    }
   ],
   "source": [
    "correlation, pvalue = spearmanr(\n",
    "    np.array(target_rem).flatten(), np.array(output_rem).flatten()\n",
    ")\n",
    "print(f\"correlation:{correlation:.4f}, pvalue:{pvalue:.4f}\")"
   ]
  },
  {
   "cell_type": "code",
   "execution_count": 8,
   "id": "820a34ce-f824-4410-9f1a-e7a965b8b340",
   "metadata": {
    "tags": []
   },
   "outputs": [
    {
     "data": {
      "image/png": "[encoded data removed]",
      "text/plain": [
       "<Figure size 750x750 with 2 Axes>"
      ]
     },
     "metadata": {},
     "output_type": "display_data"
    }
   ],
   "source": [
    "process.plot_result(\n",
    "    np.array(target_rem), np.array(output_rem), mode=\"show\"\n",
    ")"
   ]
  }
 ],
 "metadata": {
  "kernelspec": {
   "display_name": "Python 3 (ipykernel)",
   "language": "python",
   "name": "python3"
  },
  "language_info": {
   "codemirror_mode": {
    "name": "ipython",
    "version": 3
   },
   "file_extension": ".py",
   "mimetype": "text/x-python",
   "name": "python",
   "nbconvert_exporter": "python",
   "pygments_lexer": "ipython3",
   "version": "3.7.16"
  }
 },
 "nbformat": 4,
 "nbformat_minor": 5
}
